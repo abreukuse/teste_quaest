{
 "cells": [
  {
   "cell_type": "markdown",
   "metadata": {},
   "source": [
    "# Avaliação Quaest\n",
    "## Tobias de Abreu Kuse"
   ]
  },
  {
   "cell_type": "code",
   "execution_count": 1,
   "metadata": {},
   "outputs": [],
   "source": [
    "import pandas as pd\n",
    "import numpy as np\n",
    "import seaborn as sns\n",
    "import matplotlib.pyplot as plt\n",
    "sns.set_style('darkgrid')\n",
    "\n",
    "from tabela import tabela_contingencia"
   ]
  },
  {
   "cell_type": "code",
   "execution_count": 2,
   "metadata": {},
   "outputs": [],
   "source": [
    "df = pd.read_excel('bd_surveyquaest.xlsx')"
   ]
  },
  {
   "cell_type": "code",
   "execution_count": 3,
   "metadata": {},
   "outputs": [
    {
     "data": {
      "text/html": [
       "<div>\n",
       "<style scoped>\n",
       "    .dataframe tbody tr th:only-of-type {\n",
       "        vertical-align: middle;\n",
       "    }\n",
       "\n",
       "    .dataframe tbody tr th {\n",
       "        vertical-align: top;\n",
       "    }\n",
       "\n",
       "    .dataframe thead th {\n",
       "        text-align: right;\n",
       "    }\n",
       "</style>\n",
       "<table border=\"1\" class=\"dataframe\">\n",
       "  <thead>\n",
       "    <tr style=\"text-align: right;\">\n",
       "      <th></th>\n",
       "      <th>sbjnum</th>\n",
       "      <th>sexo</th>\n",
       "      <th>idade</th>\n",
       "      <th>rendaf</th>\n",
       "      <th>esc</th>\n",
       "      <th>aval_gov</th>\n",
       "      <th>voto1</th>\n",
       "    </tr>\n",
       "  </thead>\n",
       "  <tbody>\n",
       "    <tr>\n",
       "      <th>0</th>\n",
       "      <td>136037235</td>\n",
       "      <td>Masculino</td>\n",
       "      <td>57</td>\n",
       "      <td>De R$ 2.091,00 a R$ 3.135,00 (+ de 2SM até 3 SM)</td>\n",
       "      <td>Ensino médio completo</td>\n",
       "      <td>Regular positiva</td>\n",
       "      <td>Candidato 2</td>\n",
       "    </tr>\n",
       "    <tr>\n",
       "      <th>1</th>\n",
       "      <td>136037575</td>\n",
       "      <td>Masculino</td>\n",
       "      <td>32</td>\n",
       "      <td>De R$ 2.091,00 a R$ 3.135,00 (+ de 2SM até 3 SM)</td>\n",
       "      <td>Ensino médio completo</td>\n",
       "      <td>Boa</td>\n",
       "      <td>Ninguém/Branco/Nulo</td>\n",
       "    </tr>\n",
       "    <tr>\n",
       "      <th>2</th>\n",
       "      <td>136038074</td>\n",
       "      <td>Masculino</td>\n",
       "      <td>70</td>\n",
       "      <td>De R$ 5.226,00 a R$ 10.450,00 (+ de 5SM até 10...</td>\n",
       "      <td>Ensino médio completo</td>\n",
       "      <td>Boa</td>\n",
       "      <td>Candidato 2</td>\n",
       "    </tr>\n",
       "    <tr>\n",
       "      <th>3</th>\n",
       "      <td>136041069</td>\n",
       "      <td>Masculino</td>\n",
       "      <td>50</td>\n",
       "      <td>De R$ 2.091,00 a R$ 3.135,00 (+ de 2SM até 3 SM)</td>\n",
       "      <td>Ensino fundamental incompleto</td>\n",
       "      <td>Ótima</td>\n",
       "      <td>Candidato 2</td>\n",
       "    </tr>\n",
       "    <tr>\n",
       "      <th>4</th>\n",
       "      <td>136041107</td>\n",
       "      <td>Masculino</td>\n",
       "      <td>24</td>\n",
       "      <td>De R$ 3.136,00 a R$ 5.225,00 (+ de 3SM até 5 SM)</td>\n",
       "      <td>Ensino superior incompleto</td>\n",
       "      <td>Boa</td>\n",
       "      <td>Candidato 2</td>\n",
       "    </tr>\n",
       "  </tbody>\n",
       "</table>\n",
       "</div>"
      ],
      "text/plain": [
       "      sbjnum       sexo  idade  \\\n",
       "0  136037235  Masculino     57   \n",
       "1  136037575  Masculino     32   \n",
       "2  136038074  Masculino     70   \n",
       "3  136041069  Masculino     50   \n",
       "4  136041107  Masculino     24   \n",
       "\n",
       "                                              rendaf  \\\n",
       "0   De R$ 2.091,00 a R$ 3.135,00 (+ de 2SM até 3 SM)   \n",
       "1   De R$ 2.091,00 a R$ 3.135,00 (+ de 2SM até 3 SM)   \n",
       "2  De R$ 5.226,00 a R$ 10.450,00 (+ de 5SM até 10...   \n",
       "3   De R$ 2.091,00 a R$ 3.135,00 (+ de 2SM até 3 SM)   \n",
       "4   De R$ 3.136,00 a R$ 5.225,00 (+ de 3SM até 5 SM)   \n",
       "\n",
       "                             esc          aval_gov                voto1  \n",
       "0          Ensino médio completo  Regular positiva          Candidato 2  \n",
       "1          Ensino médio completo               Boa  Ninguém/Branco/Nulo  \n",
       "2          Ensino médio completo               Boa          Candidato 2  \n",
       "3  Ensino fundamental incompleto             Ótima          Candidato 2  \n",
       "4     Ensino superior incompleto               Boa          Candidato 2  "
      ]
     },
     "execution_count": 3,
     "metadata": {},
     "output_type": "execute_result"
    }
   ],
   "source": [
    "df.head()"
   ]
  },
  {
   "cell_type": "markdown",
   "metadata": {},
   "source": [
    "### Verificação inicial"
   ]
  },
  {
   "cell_type": "code",
   "execution_count": 4,
   "metadata": {},
   "outputs": [
    {
     "name": "stdout",
     "output_type": "stream",
     "text": [
      "Os dados possuem 1000 linhas e 7 colunas.\n"
     ]
    }
   ],
   "source": [
    "# Verificar o formato dos dados\n",
    "linhas, colunas = df.shape\n",
    "print(f'Os dados possuem {linhas} linhas e {colunas} colunas.')"
   ]
  },
  {
   "cell_type": "code",
   "execution_count": 5,
   "metadata": {},
   "outputs": [
    {
     "name": "stdout",
     "output_type": "stream",
     "text": [
      "Quantidade de dados faltantes: 0\n"
     ]
    }
   ],
   "source": [
    "# Verificar se há dados faltantes\n",
    "dados_faltantes = df.isnull().sum().sum()\n",
    "print(f'Quantidade de dados faltantes: {dados_faltantes}')"
   ]
  },
  {
   "cell_type": "code",
   "execution_count": 6,
   "metadata": {},
   "outputs": [
    {
     "name": "stdout",
     "output_type": "stream",
     "text": [
      "Quantidade de registros duplicados: 0\n"
     ]
    }
   ],
   "source": [
    "# Checar se há registros duplicados\n",
    "registros_duplicados = df.duplicated().sum()\n",
    "print(f'Quantidade de registros duplicados: {registros_duplicados}')"
   ]
  },
  {
   "cell_type": "code",
   "execution_count": 7,
   "metadata": {},
   "outputs": [
    {
     "name": "stdout",
     "output_type": "stream",
     "text": [
      "Quantidade de ids duplicados: 0\n"
     ]
    }
   ],
   "source": [
    "# Ver se os ids são unicos\n",
    "ids_duplicados = df['sbjnum'].duplicated().sum()\n",
    "print(f'Quantidade de ids duplicados: {ids_duplicados}')"
   ]
  },
  {
   "cell_type": "code",
   "execution_count": 8,
   "metadata": {},
   "outputs": [
    {
     "data": {
      "text/plain": [
       "sbjnum       int64\n",
       "sexo        object\n",
       "idade        int64\n",
       "rendaf      object\n",
       "esc         object\n",
       "aval_gov    object\n",
       "voto1       object\n",
       "dtype: object"
      ]
     },
     "execution_count": 8,
     "metadata": {},
     "output_type": "execute_result"
    }
   ],
   "source": [
    "# Tipo de cada variável\n",
    "df.dtypes"
   ]
  },
  {
   "cell_type": "markdown",
   "metadata": {},
   "source": [
    "### Contagens nos dados categóricos"
   ]
  },
  {
   "cell_type": "code",
   "execution_count": 9,
   "metadata": {},
   "outputs": [
    {
     "data": {
      "text/plain": [
       "Feminino     545\n",
       "Masculino    455\n",
       "Name: sexo, dtype: int64"
      ]
     },
     "execution_count": 9,
     "metadata": {},
     "output_type": "execute_result"
    }
   ],
   "source": [
    "# sexo\n",
    "df.sexo.value_counts()"
   ]
  },
  {
   "cell_type": "code",
   "execution_count": 10,
   "metadata": {},
   "outputs": [
    {
     "name": "stderr",
     "output_type": "stream",
     "text": [
      "2021-04-30 15:03:50.661 INFO    numexpr.utils: NumExpr defaulting to 4 threads.\n"
     ]
    },
    {
     "data": {
      "text/plain": [
       "De R$ 1.046,00 a R$ 2.090,00 (+ de 1SM até 2 SM)        24.6\n",
       "De R$ 2.091,00 a R$ 3.135,00 (+ de 2SM até 3 SM)        21.0\n",
       "Até R$ 1.045,00 (até 1 SM)                              20.5\n",
       "De R$ 3.136,00 a R$ 5.225,00 (+ de 3SM até 5 SM)        17.7\n",
       "De R$ 5.226,00 a R$ 10.450,00 (+ de 5SM até 10 SM)      11.0\n",
       "De R$ 10.451,00 a R$ 15.675,00 (+ de 10SM até 15 SM)     2.8\n",
       "De R$ 15.676,00 a R$ 20.900,00 (+ de 15SM até 20 SM)     1.7\n",
       "Mais de R$ 20.900,00 (+ de 20 SM)                        0.7\n",
       "Name: rendaf, dtype: float64"
      ]
     },
     "execution_count": 10,
     "metadata": {},
     "output_type": "execute_result"
    }
   ],
   "source": [
    "# rendaf: faixa da renda familiar\n",
    "df.rendaf.value_counts(normalize=True)*100\n",
    "\n",
    "# 45,1% (24.6% + 20.5%) dos entrevistados são de famílias de baixa renda i.e até 2 salários mínimos."
   ]
  },
  {
   "cell_type": "code",
   "execution_count": 11,
   "metadata": {},
   "outputs": [
    {
     "data": {
      "text/plain": [
       "Ensino médio completo                       326\n",
       "Ensino superior completo                    195\n",
       "Ensino fundamental incompleto               184\n",
       "Ensino superior incompleto                  105\n",
       "Ensino médio incompleto                      89\n",
       "Ensino fundamental completo                  84\n",
       "Sem instrução e menos de 1 ano de estudo     17\n",
       "Name: esc, dtype: int64"
      ]
     },
     "execution_count": 11,
     "metadata": {},
     "output_type": "execute_result"
    }
   ],
   "source": [
    "# esc: escolaridade\n",
    "df.esc.value_counts()\n",
    "\n",
    "# Mais de 30% dos participantes possui o ensino médio completo"
   ]
  },
  {
   "cell_type": "code",
   "execution_count": 12,
   "metadata": {},
   "outputs": [
    {
     "data": {
      "text/plain": [
       "Boa                 44.3\n",
       "Ótima               18.1\n",
       "Regular positiva    17.5\n",
       "Regular negativa     7.4\n",
       "Péssima              6.4\n",
       "Ruim                 4.9\n",
       "NS/NR                1.4\n",
       "Name: aval_gov, dtype: float64"
      ]
     },
     "execution_count": 12,
     "metadata": {},
     "output_type": "execute_result"
    }
   ],
   "source": [
    "# aval_gov: avaliação do governo\n",
    "df.aval_gov.value_counts(normalize=True)*100\n",
    "\n",
    "# 62.4% dos entrevistados tem uma avalição bem positiva do governo (boa e ótima)."
   ]
  },
  {
   "cell_type": "code",
   "execution_count": 13,
   "metadata": {},
   "outputs": [
    {
     "data": {
      "text/plain": [
       "Candidato 2            523\n",
       "Ninguém/Branco/Nulo    142\n",
       "NS/NR                  140\n",
       "Candidato 1             42\n",
       "Candidato 8             26\n",
       "Candidato 5             25\n",
       "Candidato 10            20\n",
       "Candidato 9             19\n",
       "Candidato 3             16\n",
       "Candidato 4             12\n",
       "Candidato 6             10\n",
       "Candidato 7              7\n",
       "Candidato 14             6\n",
       "Candidato 12             6\n",
       "Candidato 11             3\n",
       "Candidato 13             3\n",
       "Name: voto1, dtype: int64"
      ]
     },
     "execution_count": 13,
     "metadata": {},
     "output_type": "execute_result"
    }
   ],
   "source": [
    "# voto1: Intenção de voto\n",
    "df.voto1.value_counts()\n",
    "\n",
    "# O canditado 2 mostra larga vantangem sobre os outros candidatos"
   ]
  },
  {
   "cell_type": "code",
   "execution_count": 14,
   "metadata": {},
   "outputs": [
    {
     "data": {
      "text/plain": [
       "Candidato 2            52.3\n",
       "Ninguém/Branco/Nulo    14.2\n",
       "NS/NR                  14.0\n",
       "Candidato 1             4.2\n",
       "Candidato 8             2.6\n",
       "Candidato 5             2.5\n",
       "Candidato 10            2.0\n",
       "Candidato 9             1.9\n",
       "Candidato 3             1.6\n",
       "Candidato 4             1.2\n",
       "Candidato 6             1.0\n",
       "Candidato 7             0.7\n",
       "Candidato 14            0.6\n",
       "Candidato 12            0.6\n",
       "Candidato 11            0.3\n",
       "Candidato 13            0.3\n",
       "Name: voto1, dtype: float64"
      ]
     },
     "execution_count": 14,
     "metadata": {},
     "output_type": "execute_result"
    }
   ],
   "source": [
    "# voto1: Intenção de voto; porcentagem da intenção de voto\n",
    "df.voto1.value_counts(normalize=True)*100\n",
    "\n",
    "# O candidato 2 possui mais intensões de votos que todos os outros candidatos combinados"
   ]
  },
  {
   "cell_type": "markdown",
   "metadata": {},
   "source": [
    "### Estatíticas da variável numérica: idade"
   ]
  },
  {
   "cell_type": "code",
   "execution_count": 15,
   "metadata": {},
   "outputs": [
    {
     "name": "stdout",
     "output_type": "stream",
     "text": [
      "A média de idade dos participantes da pesquisa é de 44 anos\n"
     ]
    }
   ],
   "source": [
    "# média de idade\n",
    "media = df['idade'].mean()\n",
    "print(f'A média de idade dos participantes da pesquisa é de {int(media)} anos')"
   ]
  },
  {
   "cell_type": "code",
   "execution_count": 16,
   "metadata": {},
   "outputs": [
    {
     "name": "stdout",
     "output_type": "stream",
     "text": [
      "As pessoas mais jovens na pesquisa tem 17 anos e as pessoas com mais idade tem 86 anos.\n"
     ]
    }
   ],
   "source": [
    "idade_maxima = df['idade'].max()\n",
    "idade_minima = df['idade'].min()\n",
    "print(f'As pessoas mais jovens na pesquisa tem {idade_minima} anos e as pessoas com mais idade tem {idade_maxima} anos.')"
   ]
  },
  {
   "cell_type": "markdown",
   "metadata": {},
   "source": [
    "#### Médias de idades separadas por grupos"
   ]
  },
  {
   "cell_type": "code",
   "execution_count": 17,
   "metadata": {},
   "outputs": [
    {
     "data": {
      "text/plain": [
       "sexo\n",
       "Feminino     45.0\n",
       "Masculino    44.0\n",
       "Name: idade, dtype: float64"
      ]
     },
     "execution_count": 17,
     "metadata": {},
     "output_type": "execute_result"
    }
   ],
   "source": [
    "# sexo\n",
    "df.groupby(['sexo'])['idade'].mean().round(0)"
   ]
  },
  {
   "cell_type": "code",
   "execution_count": 18,
   "metadata": {},
   "outputs": [
    {
     "data": {
      "text/plain": [
       "rendaf\n",
       "Até R$ 1.045,00 (até 1 SM)                              49.0\n",
       "De R$ 1.046,00 a R$ 2.090,00 (+ de 1SM até 2 SM)        43.0\n",
       "De R$ 10.451,00 a R$ 15.675,00 (+ de 10SM até 15 SM)    46.0\n",
       "De R$ 15.676,00 a R$ 20.900,00 (+ de 15SM até 20 SM)    37.0\n",
       "De R$ 2.091,00 a R$ 3.135,00 (+ de 2SM até 3 SM)        43.0\n",
       "De R$ 3.136,00 a R$ 5.225,00 (+ de 3SM até 5 SM)        44.0\n",
       "De R$ 5.226,00 a R$ 10.450,00 (+ de 5SM até 10 SM)      42.0\n",
       "Mais de R$ 20.900,00 (+ de 20 SM)                       43.0\n",
       "Name: idade, dtype: float64"
      ]
     },
     "execution_count": 18,
     "metadata": {},
     "output_type": "execute_result"
    }
   ],
   "source": [
    "# média de idade por renda familiar\n",
    "df.groupby(['rendaf'])['idade'].mean().round(0)\n",
    "\n",
    "# Pessoas com maior idade na pesquisa são as que tem menor renda."
   ]
  },
  {
   "cell_type": "code",
   "execution_count": 19,
   "metadata": {},
   "outputs": [
    {
     "data": {
      "text/plain": [
       "esc\n",
       "Ensino fundamental completo                 49.0\n",
       "Ensino fundamental incompleto               57.0\n",
       "Ensino médio completo                       41.0\n",
       "Ensino médio incompleto                     35.0\n",
       "Ensino superior completo                    45.0\n",
       "Ensino superior incompleto                  33.0\n",
       "Sem instrução e menos de 1 ano de estudo    67.0\n",
       "Name: idade, dtype: float64"
      ]
     },
     "execution_count": 19,
     "metadata": {},
     "output_type": "execute_result"
    }
   ],
   "source": [
    "# média de idade por escolaridade\n",
    "df.groupby(['esc'])['idade'].mean().round(0)"
   ]
  },
  {
   "cell_type": "code",
   "execution_count": 20,
   "metadata": {},
   "outputs": [
    {
     "data": {
      "text/plain": [
       "aval_gov\n",
       "Boa                 44.0\n",
       "NS/NR               41.0\n",
       "Péssima             45.0\n",
       "Regular negativa    41.0\n",
       "Regular positiva    44.0\n",
       "Ruim                44.0\n",
       "Ótima               47.0\n",
       "Name: idade, dtype: float64"
      ]
     },
     "execution_count": 20,
     "metadata": {},
     "output_type": "execute_result"
    }
   ],
   "source": [
    "# média de idade por avaliação do governo\n",
    "df.groupby(['aval_gov'])['idade'].mean().round(0)"
   ]
  },
  {
   "cell_type": "code",
   "execution_count": 21,
   "metadata": {},
   "outputs": [
    {
     "data": {
      "text/plain": [
       "voto1\n",
       "Candidato 1            49.0\n",
       "Candidato 10           37.0\n",
       "Candidato 11           42.0\n",
       "Candidato 12           49.0\n",
       "Candidato 13           48.0\n",
       "Candidato 14           29.0\n",
       "Candidato 2            45.0\n",
       "Candidato 3            43.0\n",
       "Candidato 4            54.0\n",
       "Candidato 5            35.0\n",
       "Candidato 6            36.0\n",
       "Candidato 7            49.0\n",
       "Candidato 8            41.0\n",
       "Candidato 9            37.0\n",
       "NS/NR                  44.0\n",
       "Ninguém/Branco/Nulo    45.0\n",
       "Name: idade, dtype: float64"
      ]
     },
     "execution_count": 21,
     "metadata": {},
     "output_type": "execute_result"
    }
   ],
   "source": [
    "# média de idade por Intenção de voto\n",
    "df.groupby(['voto1'])['idade'].mean().round(0)"
   ]
  },
  {
   "cell_type": "markdown",
   "metadata": {},
   "source": [
    "## Algumas visualizações\n",
    "A partir daqui irei usar os dados que foram pré-processados com o script `preprocessing.py`.<br>\n",
    "Nesse script eu criei três variáveis: `Faixa etária`, `Renda média familiar` e `Salário mínimo`.<br><br>\n",
    "Aqui eu também irei gerar algumas visualizações para comparar as variáveis numéricas: `Idade` e `Renda média familiar` com as variáveis categóricas: `Sexo`, `Escolaridade`, `Avaliação do governo` e `Intenção de voto`"
   ]
  },
  {
   "cell_type": "code",
   "execution_count": 22,
   "metadata": {},
   "outputs": [
    {
     "data": {
      "text/html": [
       "<div>\n",
       "<style scoped>\n",
       "    .dataframe tbody tr th:only-of-type {\n",
       "        vertical-align: middle;\n",
       "    }\n",
       "\n",
       "    .dataframe tbody tr th {\n",
       "        vertical-align: top;\n",
       "    }\n",
       "\n",
       "    .dataframe thead th {\n",
       "        text-align: right;\n",
       "    }\n",
       "</style>\n",
       "<table border=\"1\" class=\"dataframe\">\n",
       "  <thead>\n",
       "    <tr style=\"text-align: right;\">\n",
       "      <th></th>\n",
       "      <th>Sexo</th>\n",
       "      <th>Idade</th>\n",
       "      <th>Escolaridade</th>\n",
       "      <th>Avaliação do governo</th>\n",
       "      <th>Intenção de voto</th>\n",
       "      <th>Faixa etária</th>\n",
       "      <th>Renda média familiar</th>\n",
       "      <th>Salário mínimo</th>\n",
       "    </tr>\n",
       "  </thead>\n",
       "  <tbody>\n",
       "    <tr>\n",
       "      <th>0</th>\n",
       "      <td>Masculino</td>\n",
       "      <td>57</td>\n",
       "      <td>Médio completo</td>\n",
       "      <td>Regular positiva</td>\n",
       "      <td>Candidato 2</td>\n",
       "      <td>55-64</td>\n",
       "      <td>2613.0</td>\n",
       "      <td>de 2 a 3</td>\n",
       "    </tr>\n",
       "    <tr>\n",
       "      <th>1</th>\n",
       "      <td>Masculino</td>\n",
       "      <td>32</td>\n",
       "      <td>Médio completo</td>\n",
       "      <td>Boa</td>\n",
       "      <td>Branco/Nulo</td>\n",
       "      <td>25-34</td>\n",
       "      <td>2613.0</td>\n",
       "      <td>de 2 a 3</td>\n",
       "    </tr>\n",
       "    <tr>\n",
       "      <th>2</th>\n",
       "      <td>Masculino</td>\n",
       "      <td>70</td>\n",
       "      <td>Médio completo</td>\n",
       "      <td>Boa</td>\n",
       "      <td>Candidato 2</td>\n",
       "      <td>65+</td>\n",
       "      <td>7838.0</td>\n",
       "      <td>de 5 a 10</td>\n",
       "    </tr>\n",
       "    <tr>\n",
       "      <th>3</th>\n",
       "      <td>Masculino</td>\n",
       "      <td>50</td>\n",
       "      <td>Fundamental incompleto</td>\n",
       "      <td>Ótima</td>\n",
       "      <td>Candidato 2</td>\n",
       "      <td>45-54</td>\n",
       "      <td>2613.0</td>\n",
       "      <td>de 2 a 3</td>\n",
       "    </tr>\n",
       "    <tr>\n",
       "      <th>4</th>\n",
       "      <td>Masculino</td>\n",
       "      <td>24</td>\n",
       "      <td>Superior incompleto</td>\n",
       "      <td>Boa</td>\n",
       "      <td>Candidato 2</td>\n",
       "      <td>17-24</td>\n",
       "      <td>4180.5</td>\n",
       "      <td>de 3 a 5</td>\n",
       "    </tr>\n",
       "  </tbody>\n",
       "</table>\n",
       "</div>"
      ],
      "text/plain": [
       "        Sexo  Idade            Escolaridade Avaliação do governo  \\\n",
       "0  Masculino     57          Médio completo     Regular positiva   \n",
       "1  Masculino     32          Médio completo                  Boa   \n",
       "2  Masculino     70          Médio completo                  Boa   \n",
       "3  Masculino     50  Fundamental incompleto                Ótima   \n",
       "4  Masculino     24     Superior incompleto                  Boa   \n",
       "\n",
       "  Intenção de voto Faixa etária  Renda média familiar Salário mínimo  \n",
       "0      Candidato 2        55-64                2613.0       de 2 a 3  \n",
       "1      Branco/Nulo        25-34                2613.0       de 2 a 3  \n",
       "2      Candidato 2          65+                7838.0      de 5 a 10  \n",
       "3      Candidato 2        45-54                2613.0       de 2 a 3  \n",
       "4      Candidato 2        17-24                4180.5       de 3 a 5  "
      ]
     },
     "execution_count": 22,
     "metadata": {},
     "output_type": "execute_result"
    }
   ],
   "source": [
    "dados = pd.read_csv('bd_surveyquaest_clean.csv')\n",
    "dados.head()"
   ]
  },
  {
   "cell_type": "code",
   "execution_count": 23,
   "metadata": {},
   "outputs": [
    {
     "data": {
      "image/png": "[encoded data removed]",
      "text/plain": [
       "<Figure size 576x360 with 1 Axes>"
      ]
     },
     "metadata": {},
     "output_type": "display_data"
    }
   ],
   "source": [
    "# histograma da idade\n",
    "\n",
    "fig, ax = plt.subplots(figsize=(8,5))\n",
    "dados['Idade'].hist(bins=20);"
   ]
  },
  {
   "cell_type": "code",
   "execution_count": 24,
   "metadata": {},
   "outputs": [
    {
     "data": {
      "image/png": "[encoded data removed]",
      "text/plain": [
       "<Figure size 720x360 with 1 Axes>"
      ]
     },
     "metadata": {},
     "output_type": "display_data"
    }
   ],
   "source": [
    "# barplot da renda média familiar\n",
    "\n",
    "fig, ax = plt.subplots(figsize=(10,5))\n",
    "dados['Renda média familiar'].value_counts().plot.barh(title='Contagem da Renda média familar em R$');"
   ]
  },
  {
   "cell_type": "code",
   "execution_count": 25,
   "metadata": {},
   "outputs": [
    {
     "data": {
      "image/png": "[encoded data removed]",
      "text/plain": [
       "<Figure size 576x360 with 1 Axes>"
      ]
     },
     "metadata": {},
     "output_type": "display_data"
    }
   ],
   "source": [
    "# boxplot com idade ente sexos\n",
    "\n",
    "fig, ax = plt.subplots(figsize=(8,5))\n",
    "plot = sns.boxplot(x='Sexo', y='Idade', data=dados)\n",
    "plot.set_title('Sexo X Idade');"
   ]
  },
  {
   "cell_type": "code",
   "execution_count": 26,
   "metadata": {},
   "outputs": [
    {
     "data": {
      "image/png": "[encoded data removed]",
      "text/plain": [
       "<Figure size 576x360 with 1 Axes>"
      ]
     },
     "metadata": {},
     "output_type": "display_data"
    }
   ],
   "source": [
    "# boxplot com idade ente sexos\n",
    "\n",
    "fig, ax = plt.subplots(figsize=(8,5))\n",
    "plot = sns.boxplot(x='Sexo', y='Renda média familiar', data=dados)\n",
    "plot.set_title('Sexo X Renda média familiar');"
   ]
  },
  {
   "cell_type": "markdown",
   "metadata": {},
   "source": [
    "### Escolaridade"
   ]
  },
  {
   "cell_type": "code",
   "execution_count": 27,
   "metadata": {},
   "outputs": [],
   "source": [
    "# ordenar de forma crescente o gráfico\n",
    "ordem = ['Sem instrução',\n",
    "        'Fundamental incompleto',\n",
    "        'Fundamental completo',\n",
    "        'Médio incompleto',\n",
    "        'Médio completo',\n",
    "        'Superior incompleto',\n",
    "        'Superior completo']"
   ]
  },
  {
   "cell_type": "code",
   "execution_count": 28,
   "metadata": {},
   "outputs": [
    {
     "data": {
      "image/png": "[encoded data removed]",
      "text/plain": [
       "<Figure size 1584x360 with 1 Axes>"
      ]
     },
     "metadata": {},
     "output_type": "display_data"
    }
   ],
   "source": [
    "# boxplot com idade ente escolaridade\n",
    "\n",
    "fig, ax = plt.subplots(figsize=(22,5))\n",
    "plot = sns.boxplot(x='Escolaridade', y='Idade', data=dados, order=ordem)\n",
    "plot.set_title('Escolaridade X Idade');\n",
    "\n",
    "# Há uma relação inversa, pelo menos até o ensino médio médio incompleto, quanto maior a escolaridade menor a idade do pesquisado."
   ]
  },
  {
   "cell_type": "code",
   "execution_count": 29,
   "metadata": {},
   "outputs": [
    {
     "data": {
      "image/png": "[encoded data removed]",
      "text/plain": [
       "<Figure size 1584x360 with 1 Axes>"
      ]
     },
     "metadata": {},
     "output_type": "display_data"
    }
   ],
   "source": [
    "fig, ax = plt.subplots(figsize=(22,5))\n",
    "plot = sns.boxplot(x='Escolaridade', y='Renda média familiar', data=dados, order=ordem)\n",
    "plot.set_title('Escolaridade X Renda média familiar');\n",
    "\n",
    "# Aqui há uma certa tendência direta, quanto maior a escolaridade do entrevistado maior a renda familiar."
   ]
  },
  {
   "cell_type": "markdown",
   "metadata": {},
   "source": [
    "### Avaliação do governo"
   ]
  },
  {
   "cell_type": "code",
   "execution_count": 30,
   "metadata": {},
   "outputs": [],
   "source": [
    "ordem = ['Péssima', 'Ruim', 'Regular negativa', 'Regular positiva', 'Boa', 'Ótima', 'Não sabem']"
   ]
  },
  {
   "cell_type": "code",
   "execution_count": 31,
   "metadata": {},
   "outputs": [
    {
     "data": {
      "image/png": "[encoded data removed]",
      "text/plain": [
       "<Figure size 1440x360 with 1 Axes>"
      ]
     },
     "metadata": {},
     "output_type": "display_data"
    }
   ],
   "source": [
    "# boxplot com idade ente avaliação do governo\n",
    "\n",
    "fig, ax = plt.subplots(figsize=(20,5))\n",
    "plot = sns.boxplot(x='Avaliação do governo', y='Idade', data=dados, order=ordem)\n",
    "plot.set_title('Avaliação do governo X Idade');"
   ]
  },
  {
   "cell_type": "code",
   "execution_count": 32,
   "metadata": {},
   "outputs": [
    {
     "data": {
      "image/png": "[encoded data removed]",
      "text/plain": [
       "<Figure size 1440x360 with 1 Axes>"
      ]
     },
     "metadata": {},
     "output_type": "display_data"
    }
   ],
   "source": [
    "# boxplot com avaliação do governo e renda média familar\n",
    "\n",
    "fig, ax = plt.subplots(figsize=(20,5))\n",
    "plot = sns.boxplot(x='Avaliação do governo', y='Renda média familiar', data=dados, order=ordem)\n",
    "plot.set_title('Avaliação do governo X Renda média familiar');\n",
    "\n",
    "# Na pesquisa, entrevistados com uma avaliação péssima do governo tendem a ter uma renda familiar mais alta."
   ]
  },
  {
   "cell_type": "markdown",
   "metadata": {},
   "source": [
    "### Intenção de voto"
   ]
  },
  {
   "cell_type": "code",
   "execution_count": 33,
   "metadata": {},
   "outputs": [],
   "source": [
    "ordem = [f'Candidato {i+1}' for i in range(14)]\n",
    "\n",
    "# usar dados desconsiderando os nulos/brancos e não sabem/não responderam\n",
    "dados_plot = dados.loc[(dados['Intenção de voto'] != 'Ninguém/Branco/Nulo') & (dados['Intenção de voto'] != 'NS/NR'), :]"
   ]
  },
  {
   "cell_type": "code",
   "execution_count": 34,
   "metadata": {},
   "outputs": [
    {
     "data": {
      "image/png": "[encoded data removed]",
      "text/plain": [
       "<Figure size 1440x360 with 1 Axes>"
      ]
     },
     "metadata": {},
     "output_type": "display_data"
    }
   ],
   "source": [
    "# boxplot com canditatos e idade\n",
    "\n",
    "fig, ax = plt.subplots(figsize=(20,5))\n",
    "plot = sns.boxplot(x='Intenção de voto', y='Idade', data=dados_plot, order=ordem)\n",
    "plot.set_title('Intenção de voto X Idade');\n",
    "\n",
    "# O eleitorado mais jovem pertence ao Candidato 14 com uma mediana abaixo dos 30 anos.\n",
    "# O candidato 4 é o que tem as intenções dos eleitores de mais idade. Mediana entre 50 e 60 anos."
   ]
  },
  {
   "cell_type": "code",
   "execution_count": 35,
   "metadata": {},
   "outputs": [
    {
     "data": {
      "image/png": "[encoded data removed]",
      "text/plain": [
       "<Figure size 1440x360 with 1 Axes>"
      ]
     },
     "metadata": {},
     "output_type": "display_data"
    }
   ],
   "source": [
    "# boxplot com Intenção de voto e renda média familiar\n",
    "\n",
    "fig, ax = plt.subplots(figsize=(20,5))\n",
    "plot = sns.boxplot(x='Intenção de voto', y='Renda média familiar', data=dados_plot, order=ordem)\n",
    "plot.set_title('Intenção de voto X Renda média familiar em R$');"
   ]
  },
  {
   "cell_type": "markdown",
   "metadata": {},
   "source": [
    "### Análise do candidato com mais intenções de votos: Candidato 2"
   ]
  },
  {
   "cell_type": "code",
   "execution_count": 36,
   "metadata": {},
   "outputs": [
    {
     "data": {
      "text/html": [
       "<div>\n",
       "<style scoped>\n",
       "    .dataframe tbody tr th:only-of-type {\n",
       "        vertical-align: middle;\n",
       "    }\n",
       "\n",
       "    .dataframe tbody tr th {\n",
       "        vertical-align: top;\n",
       "    }\n",
       "\n",
       "    .dataframe thead th {\n",
       "        text-align: right;\n",
       "    }\n",
       "</style>\n",
       "<table border=\"1\" class=\"dataframe\">\n",
       "  <thead>\n",
       "    <tr style=\"text-align: right;\">\n",
       "      <th></th>\n",
       "      <th>Sexo</th>\n",
       "      <th>Idade</th>\n",
       "      <th>Escolaridade</th>\n",
       "      <th>Avaliação do governo</th>\n",
       "      <th>Intenção de voto</th>\n",
       "      <th>Faixa etária</th>\n",
       "      <th>Renda média familiar</th>\n",
       "      <th>Salário mínimo</th>\n",
       "    </tr>\n",
       "  </thead>\n",
       "  <tbody>\n",
       "    <tr>\n",
       "      <th>0</th>\n",
       "      <td>Masculino</td>\n",
       "      <td>57</td>\n",
       "      <td>Médio completo</td>\n",
       "      <td>Regular positiva</td>\n",
       "      <td>Candidato 2</td>\n",
       "      <td>55-64</td>\n",
       "      <td>2613.0</td>\n",
       "      <td>de 2 a 3</td>\n",
       "    </tr>\n",
       "    <tr>\n",
       "      <th>2</th>\n",
       "      <td>Masculino</td>\n",
       "      <td>70</td>\n",
       "      <td>Médio completo</td>\n",
       "      <td>Boa</td>\n",
       "      <td>Candidato 2</td>\n",
       "      <td>65+</td>\n",
       "      <td>7838.0</td>\n",
       "      <td>de 5 a 10</td>\n",
       "    </tr>\n",
       "    <tr>\n",
       "      <th>3</th>\n",
       "      <td>Masculino</td>\n",
       "      <td>50</td>\n",
       "      <td>Fundamental incompleto</td>\n",
       "      <td>Ótima</td>\n",
       "      <td>Candidato 2</td>\n",
       "      <td>45-54</td>\n",
       "      <td>2613.0</td>\n",
       "      <td>de 2 a 3</td>\n",
       "    </tr>\n",
       "    <tr>\n",
       "      <th>4</th>\n",
       "      <td>Masculino</td>\n",
       "      <td>24</td>\n",
       "      <td>Superior incompleto</td>\n",
       "      <td>Boa</td>\n",
       "      <td>Candidato 2</td>\n",
       "      <td>17-24</td>\n",
       "      <td>4180.5</td>\n",
       "      <td>de 3 a 5</td>\n",
       "    </tr>\n",
       "    <tr>\n",
       "      <th>7</th>\n",
       "      <td>Masculino</td>\n",
       "      <td>17</td>\n",
       "      <td>Médio completo</td>\n",
       "      <td>Boa</td>\n",
       "      <td>Candidato 2</td>\n",
       "      <td>17-24</td>\n",
       "      <td>1568.0</td>\n",
       "      <td>de 1 a 2</td>\n",
       "    </tr>\n",
       "  </tbody>\n",
       "</table>\n",
       "</div>"
      ],
      "text/plain": [
       "        Sexo  Idade            Escolaridade Avaliação do governo  \\\n",
       "0  Masculino     57          Médio completo     Regular positiva   \n",
       "2  Masculino     70          Médio completo                  Boa   \n",
       "3  Masculino     50  Fundamental incompleto                Ótima   \n",
       "4  Masculino     24     Superior incompleto                  Boa   \n",
       "7  Masculino     17          Médio completo                  Boa   \n",
       "\n",
       "  Intenção de voto Faixa etária  Renda média familiar Salário mínimo  \n",
       "0      Candidato 2        55-64                2613.0       de 2 a 3  \n",
       "2      Candidato 2          65+                7838.0      de 5 a 10  \n",
       "3      Candidato 2        45-54                2613.0       de 2 a 3  \n",
       "4      Candidato 2        17-24                4180.5       de 3 a 5  \n",
       "7      Candidato 2        17-24                1568.0       de 1 a 2  "
      ]
     },
     "execution_count": 36,
     "metadata": {},
     "output_type": "execute_result"
    }
   ],
   "source": [
    "candidato_2 = dados.loc[dados['Intenção de voto'] == 'Candidato 2', :]\n",
    "candidato_2.head()"
   ]
  },
  {
   "cell_type": "markdown",
   "metadata": {},
   "source": [
    "#### Contagens em cada variável"
   ]
  },
  {
   "cell_type": "code",
   "execution_count": 37,
   "metadata": {},
   "outputs": [
    {
     "data": {
      "text/plain": [
       "Feminino     295\n",
       "Masculino    228\n",
       "Name: Sexo, dtype: int64"
      ]
     },
     "execution_count": 37,
     "metadata": {},
     "output_type": "execute_result"
    }
   ],
   "source": [
    "# Sexo\n",
    "\n",
    "candidato_2['Sexo'].value_counts()"
   ]
  },
  {
   "cell_type": "code",
   "execution_count": 38,
   "metadata": {},
   "outputs": [
    {
     "data": {
      "text/plain": [
       "Médio completo            177\n",
       "Fundamental incompleto    105\n",
       "Superior completo          93\n",
       "Fundamental completo       50\n",
       "Superior incompleto        45\n",
       "Médio incompleto           43\n",
       "Sem instrução              10\n",
       "Name: Escolaridade, dtype: int64"
      ]
     },
     "execution_count": 38,
     "metadata": {},
     "output_type": "execute_result"
    }
   ],
   "source": [
    "# Escolaridade\n",
    "\n",
    "candidato_2['Escolaridade'].value_counts()"
   ]
  },
  {
   "cell_type": "code",
   "execution_count": 39,
   "metadata": {},
   "outputs": [
    {
     "data": {
      "text/plain": [
       "Boa                 300\n",
       "Ótima               154\n",
       "Regular positiva     59\n",
       "Regular negativa      7\n",
       "Ruim                  1\n",
       "Não sabem             1\n",
       "Péssima               1\n",
       "Name: Avaliação do governo, dtype: int64"
      ]
     },
     "execution_count": 39,
     "metadata": {},
     "output_type": "execute_result"
    }
   ],
   "source": [
    "# Avaliação do governo\n",
    "\n",
    "candidato_2['Avaliação do governo'].value_counts()"
   ]
  },
  {
   "cell_type": "code",
   "execution_count": 40,
   "metadata": {},
   "outputs": [
    {
     "data": {
      "text/plain": [
       "55-64    115\n",
       "35-44     94\n",
       "25-34     93\n",
       "45-54     81\n",
       "65+       76\n",
       "17-24     64\n",
       "Name: Faixa etária, dtype: int64"
      ]
     },
     "execution_count": 40,
     "metadata": {},
     "output_type": "execute_result"
    }
   ],
   "source": [
    "# Faixa etária\n",
    "\n",
    "candidato_2['Faixa etária'].value_counts()"
   ]
  },
  {
   "cell_type": "code",
   "execution_count": 41,
   "metadata": {},
   "outputs": [
    {
     "data": {
      "text/plain": [
       "de 1 a 2      138\n",
       "até 1         106\n",
       "de 2 a 3      100\n",
       "de 3 a 5       96\n",
       "de 5 a 10      56\n",
       "de 10 a 15     13\n",
       "de 15 a 20     11\n",
       "mais de 20      3\n",
       "Name: Salário mínimo, dtype: int64"
      ]
     },
     "execution_count": 41,
     "metadata": {},
     "output_type": "execute_result"
    }
   ],
   "source": [
    "# Salário mínimo\n",
    "\n",
    "candidato_2['Salário mínimo'].value_counts()"
   ]
  },
  {
   "cell_type": "markdown",
   "metadata": {},
   "source": [
    "### Análises de algumas tabelas de contingência"
   ]
  },
  {
   "cell_type": "code",
   "execution_count": 42,
   "metadata": {},
   "outputs": [
    {
     "data": {
      "text/html": [
       "<div>\n",
       "<style scoped>\n",
       "    .dataframe tbody tr th:only-of-type {\n",
       "        vertical-align: middle;\n",
       "    }\n",
       "\n",
       "    .dataframe tbody tr th {\n",
       "        vertical-align: top;\n",
       "    }\n",
       "\n",
       "    .dataframe thead th {\n",
       "        text-align: right;\n",
       "    }\n",
       "</style>\n",
       "<table border=\"1\" class=\"dataframe\">\n",
       "  <thead>\n",
       "    <tr style=\"text-align: right;\">\n",
       "      <th>Sexo</th>\n",
       "      <th>Feminino</th>\n",
       "      <th>Masculino</th>\n",
       "    </tr>\n",
       "    <tr>\n",
       "      <th>Intenção de voto</th>\n",
       "      <th></th>\n",
       "      <th></th>\n",
       "    </tr>\n",
       "  </thead>\n",
       "  <tbody>\n",
       "    <tr>\n",
       "      <th>Branco/Nulo</th>\n",
       "      <td>72</td>\n",
       "      <td>70</td>\n",
       "    </tr>\n",
       "    <tr>\n",
       "      <th>Candidato 1</th>\n",
       "      <td>11</td>\n",
       "      <td>31</td>\n",
       "    </tr>\n",
       "    <tr>\n",
       "      <th>Candidato 10</th>\n",
       "      <td>14</td>\n",
       "      <td>6</td>\n",
       "    </tr>\n",
       "    <tr>\n",
       "      <th>Candidato 11</th>\n",
       "      <td>1</td>\n",
       "      <td>2</td>\n",
       "    </tr>\n",
       "    <tr>\n",
       "      <th>Candidato 12</th>\n",
       "      <td>3</td>\n",
       "      <td>3</td>\n",
       "    </tr>\n",
       "    <tr>\n",
       "      <th>Candidato 13</th>\n",
       "      <td>2</td>\n",
       "      <td>1</td>\n",
       "    </tr>\n",
       "    <tr>\n",
       "      <th>Candidato 14</th>\n",
       "      <td>6</td>\n",
       "      <td>0</td>\n",
       "    </tr>\n",
       "    <tr>\n",
       "      <th>Candidato 2</th>\n",
       "      <td>295</td>\n",
       "      <td>228</td>\n",
       "    </tr>\n",
       "    <tr>\n",
       "      <th>Candidato 3</th>\n",
       "      <td>9</td>\n",
       "      <td>7</td>\n",
       "    </tr>\n",
       "    <tr>\n",
       "      <th>Candidato 4</th>\n",
       "      <td>4</td>\n",
       "      <td>8</td>\n",
       "    </tr>\n",
       "    <tr>\n",
       "      <th>Candidato 5</th>\n",
       "      <td>14</td>\n",
       "      <td>11</td>\n",
       "    </tr>\n",
       "    <tr>\n",
       "      <th>Candidato 6</th>\n",
       "      <td>7</td>\n",
       "      <td>3</td>\n",
       "    </tr>\n",
       "    <tr>\n",
       "      <th>Candidato 7</th>\n",
       "      <td>3</td>\n",
       "      <td>4</td>\n",
       "    </tr>\n",
       "    <tr>\n",
       "      <th>Candidato 8</th>\n",
       "      <td>14</td>\n",
       "      <td>12</td>\n",
       "    </tr>\n",
       "    <tr>\n",
       "      <th>Candidato 9</th>\n",
       "      <td>7</td>\n",
       "      <td>12</td>\n",
       "    </tr>\n",
       "    <tr>\n",
       "      <th>Não sabem</th>\n",
       "      <td>83</td>\n",
       "      <td>57</td>\n",
       "    </tr>\n",
       "  </tbody>\n",
       "</table>\n",
       "</div>"
      ],
      "text/plain": [
       "Sexo              Feminino  Masculino\n",
       "Intenção de voto                     \n",
       "Branco/Nulo             72         70\n",
       "Candidato 1             11         31\n",
       "Candidato 10            14          6\n",
       "Candidato 11             1          2\n",
       "Candidato 12             3          3\n",
       "Candidato 13             2          1\n",
       "Candidato 14             6          0\n",
       "Candidato 2            295        228\n",
       "Candidato 3              9          7\n",
       "Candidato 4              4          8\n",
       "Candidato 5             14         11\n",
       "Candidato 6              7          3\n",
       "Candidato 7              3          4\n",
       "Candidato 8             14         12\n",
       "Candidato 9              7         12\n",
       "Não sabem               83         57"
      ]
     },
     "execution_count": 42,
     "metadata": {},
     "output_type": "execute_result"
    }
   ],
   "source": [
    "# Intenção de voto X Sexo\n",
    "\n",
    "tabela_contingencia(dados=dados, linhas='Intenção de voto', colunas='Sexo', margens=False)"
   ]
  },
  {
   "cell_type": "code",
   "execution_count": 43,
   "metadata": {},
   "outputs": [
    {
     "data": {
      "text/html": [
       "<div>\n",
       "<style scoped>\n",
       "    .dataframe tbody tr th:only-of-type {\n",
       "        vertical-align: middle;\n",
       "    }\n",
       "\n",
       "    .dataframe tbody tr th {\n",
       "        vertical-align: top;\n",
       "    }\n",
       "\n",
       "    .dataframe thead tr th {\n",
       "        text-align: left;\n",
       "    }\n",
       "\n",
       "    .dataframe thead tr:last-of-type th {\n",
       "        text-align: right;\n",
       "    }\n",
       "</style>\n",
       "<table border=\"1\" class=\"dataframe\">\n",
       "  <thead>\n",
       "    <tr>\n",
       "      <th>Escolaridade</th>\n",
       "      <th colspan=\"2\" halign=\"left\">Fundamental completo</th>\n",
       "      <th colspan=\"2\" halign=\"left\">Fundamental incompleto</th>\n",
       "      <th colspan=\"2\" halign=\"left\">Médio completo</th>\n",
       "      <th colspan=\"2\" halign=\"left\">Médio incompleto</th>\n",
       "      <th colspan=\"2\" halign=\"left\">Sem instrução</th>\n",
       "      <th colspan=\"2\" halign=\"left\">Superior completo</th>\n",
       "      <th colspan=\"2\" halign=\"left\">Superior incompleto</th>\n",
       "    </tr>\n",
       "    <tr>\n",
       "      <th>Sexo</th>\n",
       "      <th>Feminino</th>\n",
       "      <th>Masculino</th>\n",
       "      <th>Feminino</th>\n",
       "      <th>Masculino</th>\n",
       "      <th>Feminino</th>\n",
       "      <th>Masculino</th>\n",
       "      <th>Feminino</th>\n",
       "      <th>Masculino</th>\n",
       "      <th>Feminino</th>\n",
       "      <th>Masculino</th>\n",
       "      <th>Feminino</th>\n",
       "      <th>Masculino</th>\n",
       "      <th>Feminino</th>\n",
       "      <th>Masculino</th>\n",
       "    </tr>\n",
       "    <tr>\n",
       "      <th>Intenção de voto</th>\n",
       "      <th></th>\n",
       "      <th></th>\n",
       "      <th></th>\n",
       "      <th></th>\n",
       "      <th></th>\n",
       "      <th></th>\n",
       "      <th></th>\n",
       "      <th></th>\n",
       "      <th></th>\n",
       "      <th></th>\n",
       "      <th></th>\n",
       "      <th></th>\n",
       "      <th></th>\n",
       "      <th></th>\n",
       "    </tr>\n",
       "  </thead>\n",
       "  <tbody>\n",
       "    <tr>\n",
       "      <th>Branco/Nulo</th>\n",
       "      <td>4</td>\n",
       "      <td>7</td>\n",
       "      <td>6</td>\n",
       "      <td>17</td>\n",
       "      <td>33</td>\n",
       "      <td>26</td>\n",
       "      <td>9</td>\n",
       "      <td>5</td>\n",
       "      <td>1</td>\n",
       "      <td>0</td>\n",
       "      <td>10</td>\n",
       "      <td>9</td>\n",
       "      <td>9</td>\n",
       "      <td>6</td>\n",
       "    </tr>\n",
       "    <tr>\n",
       "      <th>Candidato 1</th>\n",
       "      <td>0</td>\n",
       "      <td>2</td>\n",
       "      <td>2</td>\n",
       "      <td>12</td>\n",
       "      <td>3</td>\n",
       "      <td>7</td>\n",
       "      <td>0</td>\n",
       "      <td>2</td>\n",
       "      <td>0</td>\n",
       "      <td>0</td>\n",
       "      <td>5</td>\n",
       "      <td>5</td>\n",
       "      <td>1</td>\n",
       "      <td>3</td>\n",
       "    </tr>\n",
       "    <tr>\n",
       "      <th>Candidato 10</th>\n",
       "      <td>0</td>\n",
       "      <td>1</td>\n",
       "      <td>2</td>\n",
       "      <td>0</td>\n",
       "      <td>6</td>\n",
       "      <td>3</td>\n",
       "      <td>2</td>\n",
       "      <td>1</td>\n",
       "      <td>1</td>\n",
       "      <td>0</td>\n",
       "      <td>2</td>\n",
       "      <td>0</td>\n",
       "      <td>1</td>\n",
       "      <td>1</td>\n",
       "    </tr>\n",
       "    <tr>\n",
       "      <th>Candidato 11</th>\n",
       "      <td>0</td>\n",
       "      <td>0</td>\n",
       "      <td>0</td>\n",
       "      <td>1</td>\n",
       "      <td>1</td>\n",
       "      <td>0</td>\n",
       "      <td>0</td>\n",
       "      <td>0</td>\n",
       "      <td>0</td>\n",
       "      <td>0</td>\n",
       "      <td>0</td>\n",
       "      <td>1</td>\n",
       "      <td>0</td>\n",
       "      <td>0</td>\n",
       "    </tr>\n",
       "    <tr>\n",
       "      <th>Candidato 12</th>\n",
       "      <td>0</td>\n",
       "      <td>0</td>\n",
       "      <td>1</td>\n",
       "      <td>1</td>\n",
       "      <td>0</td>\n",
       "      <td>0</td>\n",
       "      <td>0</td>\n",
       "      <td>1</td>\n",
       "      <td>0</td>\n",
       "      <td>0</td>\n",
       "      <td>1</td>\n",
       "      <td>1</td>\n",
       "      <td>1</td>\n",
       "      <td>0</td>\n",
       "    </tr>\n",
       "    <tr>\n",
       "      <th>Candidato 13</th>\n",
       "      <td>0</td>\n",
       "      <td>1</td>\n",
       "      <td>0</td>\n",
       "      <td>0</td>\n",
       "      <td>2</td>\n",
       "      <td>0</td>\n",
       "      <td>0</td>\n",
       "      <td>0</td>\n",
       "      <td>0</td>\n",
       "      <td>0</td>\n",
       "      <td>0</td>\n",
       "      <td>0</td>\n",
       "      <td>0</td>\n",
       "      <td>0</td>\n",
       "    </tr>\n",
       "    <tr>\n",
       "      <th>Candidato 14</th>\n",
       "      <td>0</td>\n",
       "      <td>0</td>\n",
       "      <td>0</td>\n",
       "      <td>0</td>\n",
       "      <td>1</td>\n",
       "      <td>0</td>\n",
       "      <td>3</td>\n",
       "      <td>0</td>\n",
       "      <td>0</td>\n",
       "      <td>0</td>\n",
       "      <td>2</td>\n",
       "      <td>0</td>\n",
       "      <td>0</td>\n",
       "      <td>0</td>\n",
       "    </tr>\n",
       "    <tr>\n",
       "      <th>Candidato 2</th>\n",
       "      <td>23</td>\n",
       "      <td>27</td>\n",
       "      <td>53</td>\n",
       "      <td>52</td>\n",
       "      <td>101</td>\n",
       "      <td>76</td>\n",
       "      <td>27</td>\n",
       "      <td>16</td>\n",
       "      <td>6</td>\n",
       "      <td>4</td>\n",
       "      <td>59</td>\n",
       "      <td>34</td>\n",
       "      <td>26</td>\n",
       "      <td>19</td>\n",
       "    </tr>\n",
       "    <tr>\n",
       "      <th>Candidato 3</th>\n",
       "      <td>0</td>\n",
       "      <td>1</td>\n",
       "      <td>3</td>\n",
       "      <td>1</td>\n",
       "      <td>2</td>\n",
       "      <td>3</td>\n",
       "      <td>0</td>\n",
       "      <td>0</td>\n",
       "      <td>0</td>\n",
       "      <td>0</td>\n",
       "      <td>1</td>\n",
       "      <td>2</td>\n",
       "      <td>3</td>\n",
       "      <td>0</td>\n",
       "    </tr>\n",
       "    <tr>\n",
       "      <th>Candidato 4</th>\n",
       "      <td>0</td>\n",
       "      <td>0</td>\n",
       "      <td>1</td>\n",
       "      <td>2</td>\n",
       "      <td>1</td>\n",
       "      <td>2</td>\n",
       "      <td>0</td>\n",
       "      <td>0</td>\n",
       "      <td>0</td>\n",
       "      <td>0</td>\n",
       "      <td>1</td>\n",
       "      <td>3</td>\n",
       "      <td>1</td>\n",
       "      <td>1</td>\n",
       "    </tr>\n",
       "    <tr>\n",
       "      <th>Candidato 5</th>\n",
       "      <td>0</td>\n",
       "      <td>0</td>\n",
       "      <td>0</td>\n",
       "      <td>0</td>\n",
       "      <td>5</td>\n",
       "      <td>0</td>\n",
       "      <td>1</td>\n",
       "      <td>1</td>\n",
       "      <td>0</td>\n",
       "      <td>0</td>\n",
       "      <td>4</td>\n",
       "      <td>6</td>\n",
       "      <td>4</td>\n",
       "      <td>4</td>\n",
       "    </tr>\n",
       "    <tr>\n",
       "      <th>Candidato 6</th>\n",
       "      <td>0</td>\n",
       "      <td>0</td>\n",
       "      <td>1</td>\n",
       "      <td>0</td>\n",
       "      <td>2</td>\n",
       "      <td>2</td>\n",
       "      <td>1</td>\n",
       "      <td>1</td>\n",
       "      <td>0</td>\n",
       "      <td>0</td>\n",
       "      <td>2</td>\n",
       "      <td>0</td>\n",
       "      <td>1</td>\n",
       "      <td>0</td>\n",
       "    </tr>\n",
       "    <tr>\n",
       "      <th>Candidato 7</th>\n",
       "      <td>0</td>\n",
       "      <td>0</td>\n",
       "      <td>1</td>\n",
       "      <td>1</td>\n",
       "      <td>1</td>\n",
       "      <td>0</td>\n",
       "      <td>1</td>\n",
       "      <td>0</td>\n",
       "      <td>0</td>\n",
       "      <td>0</td>\n",
       "      <td>0</td>\n",
       "      <td>1</td>\n",
       "      <td>0</td>\n",
       "      <td>2</td>\n",
       "    </tr>\n",
       "    <tr>\n",
       "      <th>Candidato 8</th>\n",
       "      <td>1</td>\n",
       "      <td>1</td>\n",
       "      <td>1</td>\n",
       "      <td>0</td>\n",
       "      <td>4</td>\n",
       "      <td>2</td>\n",
       "      <td>1</td>\n",
       "      <td>0</td>\n",
       "      <td>0</td>\n",
       "      <td>0</td>\n",
       "      <td>6</td>\n",
       "      <td>5</td>\n",
       "      <td>1</td>\n",
       "      <td>4</td>\n",
       "    </tr>\n",
       "    <tr>\n",
       "      <th>Candidato 9</th>\n",
       "      <td>2</td>\n",
       "      <td>1</td>\n",
       "      <td>1</td>\n",
       "      <td>2</td>\n",
       "      <td>2</td>\n",
       "      <td>3</td>\n",
       "      <td>1</td>\n",
       "      <td>2</td>\n",
       "      <td>0</td>\n",
       "      <td>0</td>\n",
       "      <td>0</td>\n",
       "      <td>2</td>\n",
       "      <td>1</td>\n",
       "      <td>2</td>\n",
       "    </tr>\n",
       "    <tr>\n",
       "      <th>Não sabem</th>\n",
       "      <td>4</td>\n",
       "      <td>9</td>\n",
       "      <td>19</td>\n",
       "      <td>4</td>\n",
       "      <td>23</td>\n",
       "      <td>15</td>\n",
       "      <td>6</td>\n",
       "      <td>8</td>\n",
       "      <td>4</td>\n",
       "      <td>1</td>\n",
       "      <td>19</td>\n",
       "      <td>14</td>\n",
       "      <td>8</td>\n",
       "      <td>6</td>\n",
       "    </tr>\n",
       "  </tbody>\n",
       "</table>\n",
       "</div>"
      ],
      "text/plain": [
       "Escolaridade     Fundamental completo           Fundamental incompleto  \\\n",
       "Sexo                         Feminino Masculino               Feminino   \n",
       "Intenção de voto                                                         \n",
       "Branco/Nulo                         4         7                      6   \n",
       "Candidato 1                         0         2                      2   \n",
       "Candidato 10                        0         1                      2   \n",
       "Candidato 11                        0         0                      0   \n",
       "Candidato 12                        0         0                      1   \n",
       "Candidato 13                        0         1                      0   \n",
       "Candidato 14                        0         0                      0   \n",
       "Candidato 2                        23        27                     53   \n",
       "Candidato 3                         0         1                      3   \n",
       "Candidato 4                         0         0                      1   \n",
       "Candidato 5                         0         0                      0   \n",
       "Candidato 6                         0         0                      1   \n",
       "Candidato 7                         0         0                      1   \n",
       "Candidato 8                         1         1                      1   \n",
       "Candidato 9                         2         1                      1   \n",
       "Não sabem                           4         9                     19   \n",
       "\n",
       "Escolaridade               Médio completo           Médio incompleto  \\\n",
       "Sexo             Masculino       Feminino Masculino         Feminino   \n",
       "Intenção de voto                                                       \n",
       "Branco/Nulo             17             33        26                9   \n",
       "Candidato 1             12              3         7                0   \n",
       "Candidato 10             0              6         3                2   \n",
       "Candidato 11             1              1         0                0   \n",
       "Candidato 12             1              0         0                0   \n",
       "Candidato 13             0              2         0                0   \n",
       "Candidato 14             0              1         0                3   \n",
       "Candidato 2             52            101        76               27   \n",
       "Candidato 3              1              2         3                0   \n",
       "Candidato 4              2              1         2                0   \n",
       "Candidato 5              0              5         0                1   \n",
       "Candidato 6              0              2         2                1   \n",
       "Candidato 7              1              1         0                1   \n",
       "Candidato 8              0              4         2                1   \n",
       "Candidato 9              2              2         3                1   \n",
       "Não sabem                4             23        15                6   \n",
       "\n",
       "Escolaridade               Sem instrução           Superior completo  \\\n",
       "Sexo             Masculino      Feminino Masculino          Feminino   \n",
       "Intenção de voto                                                       \n",
       "Branco/Nulo              5             1         0                10   \n",
       "Candidato 1              2             0         0                 5   \n",
       "Candidato 10             1             1         0                 2   \n",
       "Candidato 11             0             0         0                 0   \n",
       "Candidato 12             1             0         0                 1   \n",
       "Candidato 13             0             0         0                 0   \n",
       "Candidato 14             0             0         0                 2   \n",
       "Candidato 2             16             6         4                59   \n",
       "Candidato 3              0             0         0                 1   \n",
       "Candidato 4              0             0         0                 1   \n",
       "Candidato 5              1             0         0                 4   \n",
       "Candidato 6              1             0         0                 2   \n",
       "Candidato 7              0             0         0                 0   \n",
       "Candidato 8              0             0         0                 6   \n",
       "Candidato 9              2             0         0                 0   \n",
       "Não sabem                8             4         1                19   \n",
       "\n",
       "Escolaridade               Superior incompleto            \n",
       "Sexo             Masculino            Feminino Masculino  \n",
       "Intenção de voto                                          \n",
       "Branco/Nulo              9                   9         6  \n",
       "Candidato 1              5                   1         3  \n",
       "Candidato 10             0                   1         1  \n",
       "Candidato 11             1                   0         0  \n",
       "Candidato 12             1                   1         0  \n",
       "Candidato 13             0                   0         0  \n",
       "Candidato 14             0                   0         0  \n",
       "Candidato 2             34                  26        19  \n",
       "Candidato 3              2                   3         0  \n",
       "Candidato 4              3                   1         1  \n",
       "Candidato 5              6                   4         4  \n",
       "Candidato 6              0                   1         0  \n",
       "Candidato 7              1                   0         2  \n",
       "Candidato 8              5                   1         4  \n",
       "Candidato 9              2                   1         2  \n",
       "Não sabem               14                   8         6  "
      ]
     },
     "execution_count": 43,
     "metadata": {},
     "output_type": "execute_result"
    }
   ],
   "source": [
    "# Intenção de voto X ['Escolaridade' e 'Sexo']\n",
    "\n",
    "tabela_contingencia(dados=dados, linhas='Intenção de voto', colunas=['Escolaridade', 'Sexo'], margens=False)\n",
    "\n",
    "# O voto masculino só é maior para o Candidato 2 para eleitores com ensino fundamental completo e mesmo assim por pouca diferença."
   ]
  },
  {
   "cell_type": "code",
   "execution_count": 44,
   "metadata": {},
   "outputs": [
    {
     "data": {
      "text/html": [
       "<div>\n",
       "<style scoped>\n",
       "    .dataframe tbody tr th:only-of-type {\n",
       "        vertical-align: middle;\n",
       "    }\n",
       "\n",
       "    .dataframe tbody tr th {\n",
       "        vertical-align: top;\n",
       "    }\n",
       "\n",
       "    .dataframe thead tr th {\n",
       "        text-align: left;\n",
       "    }\n",
       "\n",
       "    .dataframe thead tr:last-of-type th {\n",
       "        text-align: right;\n",
       "    }\n",
       "</style>\n",
       "<table border=\"1\" class=\"dataframe\">\n",
       "  <thead>\n",
       "    <tr>\n",
       "      <th>Faixa etária</th>\n",
       "      <th colspan=\"2\" halign=\"left\">17-24</th>\n",
       "      <th colspan=\"2\" halign=\"left\">25-34</th>\n",
       "      <th colspan=\"2\" halign=\"left\">35-44</th>\n",
       "      <th colspan=\"2\" halign=\"left\">45-54</th>\n",
       "      <th colspan=\"2\" halign=\"left\">55-64</th>\n",
       "      <th colspan=\"2\" halign=\"left\">65+</th>\n",
       "    </tr>\n",
       "    <tr>\n",
       "      <th>Sexo</th>\n",
       "      <th>Feminino</th>\n",
       "      <th>Masculino</th>\n",
       "      <th>Feminino</th>\n",
       "      <th>Masculino</th>\n",
       "      <th>Feminino</th>\n",
       "      <th>Masculino</th>\n",
       "      <th>Feminino</th>\n",
       "      <th>Masculino</th>\n",
       "      <th>Feminino</th>\n",
       "      <th>Masculino</th>\n",
       "      <th>Feminino</th>\n",
       "      <th>Masculino</th>\n",
       "    </tr>\n",
       "    <tr>\n",
       "      <th>Intenção de voto</th>\n",
       "      <th></th>\n",
       "      <th></th>\n",
       "      <th></th>\n",
       "      <th></th>\n",
       "      <th></th>\n",
       "      <th></th>\n",
       "      <th></th>\n",
       "      <th></th>\n",
       "      <th></th>\n",
       "      <th></th>\n",
       "      <th></th>\n",
       "      <th></th>\n",
       "    </tr>\n",
       "  </thead>\n",
       "  <tbody>\n",
       "    <tr>\n",
       "      <th>Branco/Nulo</th>\n",
       "      <td>13</td>\n",
       "      <td>6</td>\n",
       "      <td>14</td>\n",
       "      <td>13</td>\n",
       "      <td>15</td>\n",
       "      <td>10</td>\n",
       "      <td>8</td>\n",
       "      <td>12</td>\n",
       "      <td>11</td>\n",
       "      <td>18</td>\n",
       "      <td>11</td>\n",
       "      <td>11</td>\n",
       "    </tr>\n",
       "    <tr>\n",
       "      <th>Candidato 1</th>\n",
       "      <td>0</td>\n",
       "      <td>1</td>\n",
       "      <td>3</td>\n",
       "      <td>4</td>\n",
       "      <td>2</td>\n",
       "      <td>8</td>\n",
       "      <td>1</td>\n",
       "      <td>7</td>\n",
       "      <td>2</td>\n",
       "      <td>6</td>\n",
       "      <td>3</td>\n",
       "      <td>5</td>\n",
       "    </tr>\n",
       "    <tr>\n",
       "      <th>Candidato 10</th>\n",
       "      <td>3</td>\n",
       "      <td>2</td>\n",
       "      <td>4</td>\n",
       "      <td>2</td>\n",
       "      <td>3</td>\n",
       "      <td>1</td>\n",
       "      <td>1</td>\n",
       "      <td>1</td>\n",
       "      <td>2</td>\n",
       "      <td>0</td>\n",
       "      <td>1</td>\n",
       "      <td>0</td>\n",
       "    </tr>\n",
       "    <tr>\n",
       "      <th>Candidato 11</th>\n",
       "      <td>0</td>\n",
       "      <td>0</td>\n",
       "      <td>0</td>\n",
       "      <td>1</td>\n",
       "      <td>0</td>\n",
       "      <td>0</td>\n",
       "      <td>1</td>\n",
       "      <td>1</td>\n",
       "      <td>0</td>\n",
       "      <td>0</td>\n",
       "      <td>0</td>\n",
       "      <td>0</td>\n",
       "    </tr>\n",
       "    <tr>\n",
       "      <th>Candidato 12</th>\n",
       "      <td>0</td>\n",
       "      <td>0</td>\n",
       "      <td>1</td>\n",
       "      <td>0</td>\n",
       "      <td>0</td>\n",
       "      <td>1</td>\n",
       "      <td>1</td>\n",
       "      <td>0</td>\n",
       "      <td>1</td>\n",
       "      <td>2</td>\n",
       "      <td>0</td>\n",
       "      <td>0</td>\n",
       "    </tr>\n",
       "    <tr>\n",
       "      <th>Candidato 13</th>\n",
       "      <td>0</td>\n",
       "      <td>0</td>\n",
       "      <td>0</td>\n",
       "      <td>1</td>\n",
       "      <td>0</td>\n",
       "      <td>0</td>\n",
       "      <td>0</td>\n",
       "      <td>0</td>\n",
       "      <td>2</td>\n",
       "      <td>0</td>\n",
       "      <td>0</td>\n",
       "      <td>0</td>\n",
       "    </tr>\n",
       "    <tr>\n",
       "      <th>Candidato 14</th>\n",
       "      <td>2</td>\n",
       "      <td>0</td>\n",
       "      <td>2</td>\n",
       "      <td>0</td>\n",
       "      <td>1</td>\n",
       "      <td>0</td>\n",
       "      <td>0</td>\n",
       "      <td>0</td>\n",
       "      <td>0</td>\n",
       "      <td>0</td>\n",
       "      <td>1</td>\n",
       "      <td>0</td>\n",
       "    </tr>\n",
       "    <tr>\n",
       "      <th>Candidato 2</th>\n",
       "      <td>28</td>\n",
       "      <td>36</td>\n",
       "      <td>57</td>\n",
       "      <td>36</td>\n",
       "      <td>57</td>\n",
       "      <td>37</td>\n",
       "      <td>47</td>\n",
       "      <td>34</td>\n",
       "      <td>68</td>\n",
       "      <td>47</td>\n",
       "      <td>38</td>\n",
       "      <td>38</td>\n",
       "    </tr>\n",
       "    <tr>\n",
       "      <th>Candidato 3</th>\n",
       "      <td>1</td>\n",
       "      <td>3</td>\n",
       "      <td>1</td>\n",
       "      <td>2</td>\n",
       "      <td>2</td>\n",
       "      <td>0</td>\n",
       "      <td>1</td>\n",
       "      <td>0</td>\n",
       "      <td>1</td>\n",
       "      <td>2</td>\n",
       "      <td>3</td>\n",
       "      <td>0</td>\n",
       "    </tr>\n",
       "    <tr>\n",
       "      <th>Candidato 4</th>\n",
       "      <td>0</td>\n",
       "      <td>0</td>\n",
       "      <td>0</td>\n",
       "      <td>0</td>\n",
       "      <td>0</td>\n",
       "      <td>1</td>\n",
       "      <td>0</td>\n",
       "      <td>4</td>\n",
       "      <td>4</td>\n",
       "      <td>3</td>\n",
       "      <td>0</td>\n",
       "      <td>0</td>\n",
       "    </tr>\n",
       "    <tr>\n",
       "      <th>Candidato 5</th>\n",
       "      <td>2</td>\n",
       "      <td>1</td>\n",
       "      <td>3</td>\n",
       "      <td>6</td>\n",
       "      <td>6</td>\n",
       "      <td>3</td>\n",
       "      <td>2</td>\n",
       "      <td>1</td>\n",
       "      <td>1</td>\n",
       "      <td>0</td>\n",
       "      <td>0</td>\n",
       "      <td>0</td>\n",
       "    </tr>\n",
       "    <tr>\n",
       "      <th>Candidato 6</th>\n",
       "      <td>1</td>\n",
       "      <td>1</td>\n",
       "      <td>2</td>\n",
       "      <td>1</td>\n",
       "      <td>2</td>\n",
       "      <td>1</td>\n",
       "      <td>1</td>\n",
       "      <td>0</td>\n",
       "      <td>1</td>\n",
       "      <td>0</td>\n",
       "      <td>0</td>\n",
       "      <td>0</td>\n",
       "    </tr>\n",
       "    <tr>\n",
       "      <th>Candidato 7</th>\n",
       "      <td>1</td>\n",
       "      <td>0</td>\n",
       "      <td>1</td>\n",
       "      <td>0</td>\n",
       "      <td>0</td>\n",
       "      <td>1</td>\n",
       "      <td>0</td>\n",
       "      <td>1</td>\n",
       "      <td>1</td>\n",
       "      <td>0</td>\n",
       "      <td>0</td>\n",
       "      <td>2</td>\n",
       "    </tr>\n",
       "    <tr>\n",
       "      <th>Candidato 8</th>\n",
       "      <td>1</td>\n",
       "      <td>2</td>\n",
       "      <td>3</td>\n",
       "      <td>4</td>\n",
       "      <td>1</td>\n",
       "      <td>3</td>\n",
       "      <td>3</td>\n",
       "      <td>2</td>\n",
       "      <td>4</td>\n",
       "      <td>0</td>\n",
       "      <td>2</td>\n",
       "      <td>1</td>\n",
       "    </tr>\n",
       "    <tr>\n",
       "      <th>Candidato 9</th>\n",
       "      <td>1</td>\n",
       "      <td>3</td>\n",
       "      <td>3</td>\n",
       "      <td>2</td>\n",
       "      <td>1</td>\n",
       "      <td>3</td>\n",
       "      <td>1</td>\n",
       "      <td>2</td>\n",
       "      <td>1</td>\n",
       "      <td>1</td>\n",
       "      <td>0</td>\n",
       "      <td>1</td>\n",
       "    </tr>\n",
       "    <tr>\n",
       "      <th>Não sabem</th>\n",
       "      <td>15</td>\n",
       "      <td>9</td>\n",
       "      <td>7</td>\n",
       "      <td>12</td>\n",
       "      <td>17</td>\n",
       "      <td>11</td>\n",
       "      <td>16</td>\n",
       "      <td>6</td>\n",
       "      <td>12</td>\n",
       "      <td>9</td>\n",
       "      <td>16</td>\n",
       "      <td>10</td>\n",
       "    </tr>\n",
       "  </tbody>\n",
       "</table>\n",
       "</div>"
      ],
      "text/plain": [
       "Faixa etária        17-24              25-34              35-44            \\\n",
       "Sexo             Feminino Masculino Feminino Masculino Feminino Masculino   \n",
       "Intenção de voto                                                            \n",
       "Branco/Nulo            13         6       14        13       15        10   \n",
       "Candidato 1             0         1        3         4        2         8   \n",
       "Candidato 10            3         2        4         2        3         1   \n",
       "Candidato 11            0         0        0         1        0         0   \n",
       "Candidato 12            0         0        1         0        0         1   \n",
       "Candidato 13            0         0        0         1        0         0   \n",
       "Candidato 14            2         0        2         0        1         0   \n",
       "Candidato 2            28        36       57        36       57        37   \n",
       "Candidato 3             1         3        1         2        2         0   \n",
       "Candidato 4             0         0        0         0        0         1   \n",
       "Candidato 5             2         1        3         6        6         3   \n",
       "Candidato 6             1         1        2         1        2         1   \n",
       "Candidato 7             1         0        1         0        0         1   \n",
       "Candidato 8             1         2        3         4        1         3   \n",
       "Candidato 9             1         3        3         2        1         3   \n",
       "Não sabem              15         9        7        12       17        11   \n",
       "\n",
       "Faixa etária        45-54              55-64                65+            \n",
       "Sexo             Feminino Masculino Feminino Masculino Feminino Masculino  \n",
       "Intenção de voto                                                           \n",
       "Branco/Nulo             8        12       11        18       11        11  \n",
       "Candidato 1             1         7        2         6        3         5  \n",
       "Candidato 10            1         1        2         0        1         0  \n",
       "Candidato 11            1         1        0         0        0         0  \n",
       "Candidato 12            1         0        1         2        0         0  \n",
       "Candidato 13            0         0        2         0        0         0  \n",
       "Candidato 14            0         0        0         0        1         0  \n",
       "Candidato 2            47        34       68        47       38        38  \n",
       "Candidato 3             1         0        1         2        3         0  \n",
       "Candidato 4             0         4        4         3        0         0  \n",
       "Candidato 5             2         1        1         0        0         0  \n",
       "Candidato 6             1         0        1         0        0         0  \n",
       "Candidato 7             0         1        1         0        0         2  \n",
       "Candidato 8             3         2        4         0        2         1  \n",
       "Candidato 9             1         2        1         1        0         1  \n",
       "Não sabem              16         6       12         9       16        10  "
      ]
     },
     "execution_count": 44,
     "metadata": {},
     "output_type": "execute_result"
    }
   ],
   "source": [
    "# Intenção de voto X ['Faixa etária' e 'Sexo']\n",
    "\n",
    "tabela_contingencia(dados=dados, linhas='Intenção de voto', colunas=['Faixa etária', 'Sexo'], margens=False)\n",
    "\n",
    "# Voto masculino para o Candidato 2 é maior entre os mais jovens e empatado para pessoas acima de 65 anos."
   ]
  },
  {
   "cell_type": "code",
   "execution_count": null,
   "metadata": {},
   "outputs": [],
   "source": []
  }
 ],
 "metadata": {
  "kernelspec": {
   "display_name": "Python 3",
   "language": "python",
   "name": "python3"
  },
  "language_info": {
   "codemirror_mode": {
    "name": "ipython",
    "version": 3
   },
   "file_extension": ".py",
   "mimetype": "text/x-python",
   "name": "python",
   "nbconvert_exporter": "python",
   "pygments_lexer": "ipython3",
   "version": "3.7.6"
  }
 },
 "nbformat": 4,
 "nbformat_minor": 4
}
